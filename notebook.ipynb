{
 "cells": [
  {
   "cell_type": "code",
   "execution_count": 4,
   "metadata": {},
   "outputs": [],
   "source": [
    "import holoviews as hv"
   ]
  },
  {
   "cell_type": "markdown",
   "metadata": {},
   "source": [
    "## Funções Auxiliares"
   ]
  },
  {
   "cell_type": "code",
   "execution_count": 1,
   "metadata": {},
   "outputs": [],
   "source": [
    "#return < 0 if c is on the left, > 0 if c is on the right, 0 if collinear\n",
    "def cross_product(a, b, c):\n",
    "    y1 = a[1] - b[1]\n",
    "    y2 = a[1] - c[1]\n",
    "    x1 = a[0] - b[0]\n",
    "    x2 = a[0] - c[0]\n",
    "    return y2*x1 - y1*x2\n",
    "\n",
    "#0 se dist de b ate a e c ate a é a mesma, -1 se dist de c ate a é maior, 1 se dist de b até a é maior\n",
    "def distance(a, b, c):\n",
    "    y1 = a[1] - b[1]\n",
    "    y2 = a[1] - c[1]\n",
    "    x1 = a[0] - b[0]\n",
    "    x2 = a[0] - c[0]\n",
    "\n",
    "    i1 = (y1**2 + x1**2)\n",
    "    i2 = (y2**2 + y2**2)\n",
    "\n",
    "    if(i1 == i2):\n",
    "        return 0\n",
    "    elif(i1 < i2):\n",
    "        return -1\n",
    "    return 1\n",
    "\n",
    "def leftmost_point(S):\n",
    "    point = S[0]\n",
    "    for i in range(len(S)):\n",
    "        if S[i][0] < point[0]:\n",
    "            point = S[i]\n",
    "    return point"
   ]
  },
  {
   "cell_type": "markdown",
   "metadata": {},
   "source": [
    "## Marcha de Jarvis"
   ]
  },
  {
   "cell_type": "code",
   "execution_count": 2,
   "metadata": {},
   "outputs": [],
   "source": [
    "def jarvis(points):\n",
    "    starting_point = leftmost_point(points) #o ponto mais a esquerda sempre está na envoltória\n",
    "    result = set() #conjunto de pontos pertencente a envoltória\n",
    "    result.add(starting_point)\n",
    "    \n",
    "    collinear_points = []\n",
    "    current = starting_point\n",
    "    \n",
    "    while True:\n",
    "        next_point = points[0]\n",
    "\n",
    "        for i in range(1, len(points)):\n",
    "            if points[i] == current:\n",
    "                continue\n",
    "            pos = cross_product(current, next_point, points[i])\n",
    "\n",
    "            if pos > 0:\n",
    "                next_point = points[i]\n",
    "                collinear_points.clear()\n",
    "\n",
    "            elif pos == 0:\n",
    "                if(distance(current, next_point, points[i]) < 0):\n",
    "                    collinear_points.append(next_point)\n",
    "                    next_point = points[i]\n",
    "                else:\n",
    "                    collinear_points.append(points[i])\n",
    "        for i in range(len(collinear_points)):\n",
    "            result.add(collinear_points[i])\n",
    "        if next_point == starting_point:\n",
    "            break\n",
    "        result.add(next_point)\n",
    "        current = next_point\n",
    "\n",
    "    return result"
   ]
  },
  {
   "cell_type": "markdown",
   "metadata": {},
   "source": [
    "## Exame de Graham"
   ]
  },
  {
   "cell_type": "code",
   "execution_count": null,
   "metadata": {},
   "outputs": [],
   "source": []
  }
 ],
 "metadata": {
  "kernelspec": {
   "display_name": "Python 3",
   "language": "python",
   "name": "python3"
  },
  "language_info": {
   "codemirror_mode": {
    "name": "ipython",
    "version": 3
   },
   "file_extension": ".py",
   "mimetype": "text/x-python",
   "name": "python",
   "nbconvert_exporter": "python",
   "pygments_lexer": "ipython3",
   "version": "3.7.3"
  }
 },
 "nbformat": 4,
 "nbformat_minor": 2
}
